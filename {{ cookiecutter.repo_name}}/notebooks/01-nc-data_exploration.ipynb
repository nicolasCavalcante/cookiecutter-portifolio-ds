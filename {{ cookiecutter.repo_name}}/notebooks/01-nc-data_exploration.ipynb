{
 "cells": [
  {
   "cell_type": "markdown",
   "source": [
    "# Load Modules and Data"
   ],
   "metadata": {}
  },
  {
   "cell_type": "code",
   "execution_count": null,
   "source": [
    "import warnings\r\n",
    "\r\n",
    "import plotly.express as px\r\n",
    "import seaborn as sns\r\n",
    "from pandasgui import show\r\n",
    "\r\n",
    "from {{cookiecutter.repo_name}} import pipelines\r\n",
    "\r\n",
    "warnings.filterwarnings(\"ignore\", category=DeprecationWarning)\r\n",
    "\r\n",
    "df = pipelines.make_dataset()\r\n",
    "\r\n",
    "df.head()"
   ],
   "outputs": [],
   "metadata": {}
  },
  {
   "cell_type": "markdown",
   "source": [
    "# Visualization"
   ],
   "metadata": {}
  },
  {
   "cell_type": "markdown",
   "source": [
    "## Pair Plot"
   ],
   "metadata": {}
  },
  {
   "cell_type": "code",
   "execution_count": null,
   "source": [
    "g = sns.PairGrid(df, hue=\"species\")\r\n",
    "\r\n",
    "g.map_upper(sns.scatterplot)\r\n",
    "\r\n",
    "g.map_lower(sns.kdeplot, fill=True)\r\n",
    "\r\n",
    "g.map_diag(sns.kdeplot, fill=True)"
   ],
   "outputs": [],
   "metadata": {}
  },
  {
   "cell_type": "markdown",
   "source": [
    "## T-SNE"
   ],
   "metadata": {}
  },
  {
   "cell_type": "markdown",
   "source": [
    "### 2D"
   ],
   "metadata": {}
  },
  {
   "cell_type": "code",
   "execution_count": null,
   "source": [
    "tsne_df_2d = pipelines.make_tsne(dim=2)\r\n",
    "\r\n",
    "fig = px.scatter(tsne_df_2d, x='0', y='1', color='species')\r\n",
    "\r\n",
    "fig.show()"
   ],
   "outputs": [],
   "metadata": {}
  },
  {
   "cell_type": "markdown",
   "source": [
    "### 3D"
   ],
   "metadata": {}
  },
  {
   "cell_type": "code",
   "execution_count": null,
   "source": [
    "tsne_df_3d = pipelines.make_tsne(dim=3)\n",
    "\n",
    "fig = px.scatter_3d(tsne_df_3d, x='0', y='1', z='2', color='species')\n",
    "\n",
    "fig.update_traces(marker_size=8)\n",
    "\n",
    "fig.show()"
   ],
   "outputs": [],
   "metadata": {}
  },
  {
   "cell_type": "markdown",
   "source": [
    "## Interactive visualization"
   ],
   "metadata": {}
  },
  {
   "cell_type": "code",
   "execution_count": null,
   "source": [
    "show(df)"
   ],
   "outputs": [],
   "metadata": {}
  }
 ],
 "metadata": {
  "interpreter": {
   "hash": "c84a1246f43104370ef8756e7cecdc393b6a58e98e259456fa49a704374acfe1"
  },
  "kernelspec": {
   "display_name": "Python 3 (ipykernel)",
   "language": "python",
   "name": "python3"
  },
  "language_info": {
   "codemirror_mode": {
    "name": "ipython",
    "version": 3
   },
   "file_extension": ".py",
   "mimetype": "text/x-python",
   "name": "python",
   "nbconvert_exporter": "python",
   "pygments_lexer": "ipython3",
   "version": "3.7.9"
  }
 },
 "nbformat": 4,
 "nbformat_minor": 4
}