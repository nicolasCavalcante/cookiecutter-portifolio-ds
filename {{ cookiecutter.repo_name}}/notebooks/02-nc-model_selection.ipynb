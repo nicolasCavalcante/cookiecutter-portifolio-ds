{
 "cells": [
  {
   "cell_type": "markdown",
   "source": [
    " # Import Modules"
   ],
   "metadata": {}
  },
  {
   "cell_type": "code",
   "execution_count": null,
   "source": [
    "import logging\r\n",
    "import warnings\r\n",
    "\r\n",
    "import pandas as pd\r\n",
    "from sklearn import svm\r\n",
    "from sklearn.base import BaseEstimator\r\n",
    "from sklearn.linear_model import LogisticRegression\r\n",
    "from sklearn.model_selection import cross_validate\r\n",
    "from sklearn.pipeline import make_pipeline\r\n",
    "from sklearn.preprocessing import StandardScaler\r\n",
    "\r\n",
    "from {{cookiecutter.repo_name}} import pipelines\r\n",
    "from {{cookiecutter.repo_name}}.utils import mlflow\r\n",
    "\r\n",
    "logging.basicConfig(level=logging.WARN)\r\n",
    "logger = logging.getLogger(__name__)\r\n",
    "warnings.filterwarnings(\"ignore\")"
   ],
   "outputs": [],
   "metadata": {}
  },
  {
   "cell_type": "markdown",
   "source": [
    " # Load Data"
   ],
   "metadata": {}
  },
  {
   "cell_type": "code",
   "execution_count": null,
   "source": [
    "df = pipelines.make_dataset()\r\n",
    "X, y = df.drop('species', axis=1), df.species\r\n",
    "df.head()"
   ],
   "outputs": [],
   "metadata": {}
  },
  {
   "cell_type": "markdown",
   "source": [
    " # Select Model"
   ],
   "metadata": {}
  },
  {
   "cell_type": "markdown",
   "source": [
    " ## Set Validation Code"
   ],
   "metadata": {}
  },
  {
   "cell_type": "code",
   "execution_count": null,
   "source": [
    "def validate(X, y, model: BaseEstimator):\r\n",
    "    score_metrics = ['accuracy', 'precision_macro', 'recall_macro', 'f1_macro']\r\n",
    "    scoring = dict([(s, s) for s in score_metrics])\r\n",
    "    score_metrics = ['test_' + metric for metric in score_metrics]\r\n",
    "    scores = cross_validate(model, X, y, cv=5, scoring=scoring)\r\n",
    "    return dict([(metric, scores[metric]) for metric in score_metrics])"
   ],
   "outputs": [],
   "metadata": {}
  },
  {
   "cell_type": "markdown",
   "source": [
    " ## Set Logging Code"
   ],
   "metadata": {}
  },
  {
   "cell_type": "code",
   "execution_count": null,
   "source": [
    "def log(model: BaseEstimator,\n",
    "        X,\n",
    "        y,\n",
    "        model_name,\n",
    "        parameters: dict = {},\n",
    "        draw=False):\n",
    "    with mlflow.start_run(run_name=model_name):\n",
    "        results = validate(X, y, model)\n",
    "        for param, value in parameters.items():\n",
    "            mlflow.log_param(param, value)\n",
    "        mlflow.log_param('model', model_name)\n",
    "        for metric, values in results.items():\n",
    "            mlflow.log_metric(metric, values.mean())\n",
    "        mlflow.sklearn.log_model(model, \"model\")\n",
    "    if draw:\n",
    "        pd.DataFrame(results).plot(figsize=(10, 5), kind='box')"
   ],
   "outputs": [],
   "metadata": {}
  },
  {
   "cell_type": "markdown",
   "source": [
    " ## Test Models"
   ],
   "metadata": {}
  },
  {
   "cell_type": "markdown",
   "source": [
    " ### Logistic Regeression"
   ],
   "metadata": {}
  },
  {
   "cell_type": "code",
   "execution_count": null,
   "source": [
    "parameters = dict(max_iter=1e4)\n",
    "pipe = make_pipeline(StandardScaler(), LogisticRegression(**parameters))\n",
    "model_name = pipe[-1].__class__.__name__\n",
    "log(pipe, X, y, model_name, parameters)"
   ],
   "outputs": [],
   "metadata": {}
  },
  {
   "cell_type": "markdown",
   "source": [
    " ### Linear Suport Vector Machine"
   ],
   "metadata": {}
  },
  {
   "cell_type": "code",
   "execution_count": null,
   "source": [
    "parameters = dict(dual=True, max_iter=1e4)\n",
    "pipe = make_pipeline(StandardScaler(), svm.LinearSVC(**parameters))\n",
    "model_name = pipe[-1].__class__.__name__\n",
    "log(pipe, X, y, model_name, parameters)"
   ],
   "outputs": [],
   "metadata": {}
  }
 ],
 "metadata": {
  "interpreter": {
   "hash": "c84a1246f43104370ef8756e7cecdc393b6a58e98e259456fa49a704374acfe1"
  },
  "kernelspec": {
   "display_name": "Python 3.7.9 64-bit ('{{cookiecutter.repo_name}}-rqkS9wNv': pipenv)",
   "name": "python3"
  },
  "language_info": {
   "codemirror_mode": {
    "name": "ipython",
    "version": 3
   },
   "file_extension": ".py",
   "mimetype": "text/x-python",
   "name": "python",
   "nbconvert_exporter": "python",
   "pygments_lexer": "ipython3",
   "version": "3.7.9"
  }
 },
 "nbformat": 4,
 "nbformat_minor": 2
}